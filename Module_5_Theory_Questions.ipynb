{
  "nbformat": 4,
  "nbformat_minor": 0,
  "metadata": {
    "colab": {
      "provenance": []
    },
    "kernelspec": {
      "name": "python3",
      "display_name": "Python 3"
    },
    "language_info": {
      "name": "python"
    }
  },
  "cells": [
    {
      "cell_type": "markdown",
      "source": [
        "Q1. What is the difference between a function and a method in Python ?\n",
        "    \n",
        "    - In Python, functions and methods are both blocks of reusable code that perform a specific task, but they differ mainly in how they are defined and used.\n",
        "\n",
        "    Function -\n",
        "    \n",
        "    A function is defined using the def keyword and is not associated with an object (unless it's inside a class).\n",
        "\n",
        "\n",
        "\n",
        "  Independent: Not tied to any object.\n",
        "  Called directly: greet(\"Chetan\").\n"
      ],
      "metadata": {
        "id": "NrAT2S4ekQ2i"
      }
    },
    {
      "cell_type": "code",
      "source": [
        "# Example:\n",
        "\n",
        "def greet(name):\n",
        "  return f\"Hello, {name}!\"\n",
        "\n"
      ],
      "metadata": {
        "id": "rdTwtpCyk-hM"
      },
      "execution_count": 122,
      "outputs": []
    },
    {
      "cell_type": "code",
      "execution_count": 123,
      "metadata": {
        "colab": {
          "base_uri": "https://localhost:8080/"
        },
        "id": "Biabm9iYkHT9",
        "outputId": "50b584cf-632e-4ae8-c69f-f045b802b075"
      },
      "outputs": [
        {
          "output_type": "stream",
          "name": "stdout",
          "text": [
            "Hello, Chetan!\n"
          ]
        }
      ],
      "source": [
        "print(greet(\"Chetan\"))           # output : Hello, Chetan!"
      ]
    },
    {
      "cell_type": "markdown",
      "source": [
        "Method -\n",
        "\n",
        "A method is a function that belongs to an object (usually a class instance).\n",
        "\n",
        "1) Belongs to an object or class.\n",
        "2) Called on an object: p.greet(\"Chetan\")\n",
        "3) The first parameter is typically self, referring to the instance itself."
      ],
      "metadata": {
        "id": "Gko675OjmlTw"
      }
    },
    {
      "cell_type": "code",
      "source": [
        "# Example:\n",
        "\n",
        "\n",
        "class Person:\n",
        "  def greet(self, name):\n",
        "    return f\"Hello,{name}!\"\n",
        "\n",
        "p = Person()\n",
        "print(p.greet(\"Chetan\"))          # Output : Hello, Chetan!"
      ],
      "metadata": {
        "colab": {
          "base_uri": "https://localhost:8080/"
        },
        "id": "q7FhlG9SnHrW",
        "outputId": "01125a1a-2093-46da-aa52-c935f1bf9c10"
      },
      "execution_count": 124,
      "outputs": [
        {
          "output_type": "stream",
          "name": "stdout",
          "text": [
            "Hello,Chetan!\n"
          ]
        }
      ]
    },
    {
      "cell_type": "markdown",
      "source": [
        "Q2. Explain the concept of function arguments and parameters in Python.\n",
        "    - In Python, function arguments and parameters are related but slightly different concepts used when defining and calling functions.\n",
        "\n",
        "    Parameters\n",
        "\n",
        "    Parameters are the placeholders in the function definition. They specify what kind of values the function expects to receive.\n",
        "\n",
        "    "
      ],
      "metadata": {
        "id": "zbZsmWwHhpAE"
      }
    },
    {
      "cell_type": "code",
      "source": [
        "# Example:\n",
        "\n",
        "def greet(name):\n",
        "    print(\"Hello\", name)\n"
      ],
      "metadata": {
        "id": "OUPlsjRZieuA"
      },
      "execution_count": 171,
      "outputs": []
    },
    {
      "cell_type": "markdown",
      "source": [
        "Here, name is a parameter."
      ],
      "metadata": {
        "id": "lMjcobdfikUh"
      }
    },
    {
      "cell_type": "markdown",
      "source": [
        "Arguments\n",
        "\n",
        "Arguments are the actual values you pass into a function when you call it.\n",
        "\n"
      ],
      "metadata": {
        "id": "FBvOjN-EinpQ"
      }
    },
    {
      "cell_type": "code",
      "source": [
        "# Example:\n",
        "\n",
        "greet(\"Chetan\")\n"
      ],
      "metadata": {
        "colab": {
          "base_uri": "https://localhost:8080/"
        },
        "id": "wHuPZgvmixwy",
        "outputId": "429965d2-cbdb-477b-e3d3-e8410209e00c"
      },
      "execution_count": 172,
      "outputs": [
        {
          "output_type": "stream",
          "name": "stdout",
          "text": [
            "Hello Chetan\n"
          ]
        }
      ]
    },
    {
      "cell_type": "markdown",
      "source": [
        "Here, \"Chetan\" is an argument passed to the function."
      ],
      "metadata": {
        "id": "hYp7_Tf3i4yZ"
      }
    },
    {
      "cell_type": "markdown",
      "source": [
        "Types of Arguments in Python:\n",
        "\n",
        "1) Positional Arguments\n",
        "Passed in the same order as parameters."
      ],
      "metadata": {
        "id": "vIWkfJYgi9sy"
      }
    },
    {
      "cell_type": "code",
      "source": [
        "def add(x, y):\n",
        "    return x + y\n",
        "add(5, 3)  # 5 and 3 are positional arguments\n"
      ],
      "metadata": {
        "colab": {
          "base_uri": "https://localhost:8080/"
        },
        "id": "ip8HSlNijIKr",
        "outputId": "0e0b2828-6bd3-4c73-c45c-fcfc37f4c87d"
      },
      "execution_count": 173,
      "outputs": [
        {
          "output_type": "execute_result",
          "data": {
            "text/plain": [
              "8"
            ]
          },
          "metadata": {},
          "execution_count": 173
        }
      ]
    },
    {
      "cell_type": "markdown",
      "source": [
        "2) Keyword Arguments\n",
        "Passed using the name of the parameter."
      ],
      "metadata": {
        "id": "cJ0EpbbfjLsK"
      }
    },
    {
      "cell_type": "code",
      "source": [
        "add(x=5, y=3)\n"
      ],
      "metadata": {
        "colab": {
          "base_uri": "https://localhost:8080/"
        },
        "id": "YqX5k2lUjZ2J",
        "outputId": "5f8acf3a-f0bb-4010-aae9-7015abf8b816"
      },
      "execution_count": 174,
      "outputs": [
        {
          "output_type": "execute_result",
          "data": {
            "text/plain": [
              "8"
            ]
          },
          "metadata": {},
          "execution_count": 174
        }
      ]
    },
    {
      "cell_type": "markdown",
      "source": [
        "3) Default Arguments\n",
        "\n",
        "Parameters with default values."
      ],
      "metadata": {
        "id": "JeVQEItOjdzx"
      }
    },
    {
      "cell_type": "code",
      "source": [
        "def greet(name=\"Guest\"):\n",
        "    print(\"Hello\", name)\n",
        "greet()           # Uses default value\n",
        "greet(\"Chetan\")   # Overrides default\n"
      ],
      "metadata": {
        "colab": {
          "base_uri": "https://localhost:8080/"
        },
        "id": "YU6XqYQdjl06",
        "outputId": "4fdb14eb-4fa1-4136-e153-d9afde771fa2"
      },
      "execution_count": 175,
      "outputs": [
        {
          "output_type": "stream",
          "name": "stdout",
          "text": [
            "Hello Guest\n",
            "Hello Chetan\n"
          ]
        }
      ]
    },
    {
      "cell_type": "markdown",
      "source": [
        "Variable-length Arguments\n",
        "\n",
        "Accept multiple values.\n",
        "*args for non-keyworded variable arguments (tuple).\n",
        "**kwargs for keyworded variable arguments (dictionary).\n"
      ],
      "metadata": {
        "id": "bgve0FESjquq"
      }
    },
    {
      "cell_type": "code",
      "source": [
        "def demo(*args, **kwargs):\n",
        "    print(args)     # Tuple of arguments\n",
        "    print(kwargs)   # Dictionary of keyword arguments\n",
        "\n",
        "demo(1, 2, 3, a=4, b=5)\n"
      ],
      "metadata": {
        "colab": {
          "base_uri": "https://localhost:8080/"
        },
        "id": "6Mn4WvEwj0VQ",
        "outputId": "475b40b1-6aa0-49b2-a65c-89c9949cbcc6"
      },
      "execution_count": 176,
      "outputs": [
        {
          "output_type": "stream",
          "name": "stdout",
          "text": [
            "(1, 2, 3)\n",
            "{'a': 4, 'b': 5}\n"
          ]
        }
      ]
    },
    {
      "cell_type": "markdown",
      "source": [
        "Q3.  What are the different ways to define and call a function in Python ?\n",
        "\n",
        "    - In Python, there are several ways to define and call functions, depending on the use case. Below are the main types and examples of each:\n",
        "\n",
        "    1] Standard Function Definition"
      ],
      "metadata": {
        "id": "hAVLWIVAp2Z1"
      }
    },
    {
      "cell_type": "code",
      "source": [
        "# Definition:\n",
        "\n",
        "def greet(name):\n",
        "  return f\"Hello,{name}!\""
      ],
      "metadata": {
        "id": "ApCs4Mv0qiJE"
      },
      "execution_count": 125,
      "outputs": []
    },
    {
      "cell_type": "code",
      "source": [
        "# Calling:\n",
        "\n",
        "print(greet(\"Alice\"))"
      ],
      "metadata": {
        "colab": {
          "base_uri": "https://localhost:8080/"
        },
        "id": "LNTFmRgkl5ex",
        "outputId": "d228d150-8b4b-47d4-9707-52c562b93572"
      },
      "execution_count": 126,
      "outputs": [
        {
          "output_type": "stream",
          "name": "stdout",
          "text": [
            "Hello,Alice!\n"
          ]
        }
      ]
    },
    {
      "cell_type": "markdown",
      "source": [
        "2] Function with Default Arguments"
      ],
      "metadata": {
        "id": "oOA8gYEorFfT"
      }
    },
    {
      "cell_type": "code",
      "source": [
        "# Definition:\n",
        "\n",
        "def greet(name = \"Guest\"):\n",
        "  return f\"Hello, {name}!\""
      ],
      "metadata": {
        "id": "seSCKDaUrKfK"
      },
      "execution_count": 127,
      "outputs": []
    },
    {
      "cell_type": "code",
      "source": [
        "# Calling:\n",
        "\n",
        "print(greet(\"Bob\"))     # Uses  \"Bob\"\n",
        "print(greet())"
      ],
      "metadata": {
        "colab": {
          "base_uri": "https://localhost:8080/"
        },
        "id": "RFdEv8Ykq5Zb",
        "outputId": "c2e17896-8142-4733-fafe-bf3c0c578b19"
      },
      "execution_count": 128,
      "outputs": [
        {
          "output_type": "stream",
          "name": "stdout",
          "text": [
            "Hello, Bob!\n",
            "Hello, Guest!\n"
          ]
        }
      ]
    },
    {
      "cell_type": "markdown",
      "source": [
        "3] Function with Arbitrary Arguments."
      ],
      "metadata": {
        "id": "4Ut1An-dsoZX"
      }
    },
    {
      "cell_type": "code",
      "source": [
        "# *a. args (Non-keyword arguments)\n",
        "\n",
        "def add_numbers(*args):\n",
        "  return sum(args)\n"
      ],
      "metadata": {
        "id": "w5jF_Jktsi4d"
      },
      "execution_count": 129,
      "outputs": []
    },
    {
      "cell_type": "code",
      "source": [
        " print(add_numbers(1, 2, 3, 4))        # Output : 10"
      ],
      "metadata": {
        "colab": {
          "base_uri": "https://localhost:8080/"
        },
        "id": "o7jE6q_ptBys",
        "outputId": "467400d3-d417-45ca-8c8f-384d9ca2df00"
      },
      "execution_count": 130,
      "outputs": [
        {
          "output_type": "stream",
          "name": "stdout",
          "text": [
            "10\n"
          ]
        }
      ]
    },
    {
      "cell_type": "code",
      "source": [
        "# **b. kwargs (Keyword arguments)\n",
        "\n",
        "def print_info(**kwargs):\n",
        "  for key, value in kwargs.items():\n",
        "    print(f\"{key}:{value}\")"
      ],
      "metadata": {
        "id": "nRTkSYmGtWhj"
      },
      "execution_count": 131,
      "outputs": []
    },
    {
      "cell_type": "code",
      "source": [
        "print_info(name = \"Alice\", age = 25)"
      ],
      "metadata": {
        "colab": {
          "base_uri": "https://localhost:8080/"
        },
        "id": "3Rwsx3m2t-iY",
        "outputId": "257a9ab2-600c-42d3-9cb2-d378d411531c"
      },
      "execution_count": 132,
      "outputs": [
        {
          "output_type": "stream",
          "name": "stdout",
          "text": [
            "name:Alice\n",
            "age:25\n"
          ]
        }
      ]
    },
    {
      "cell_type": "markdown",
      "source": [
        "4] Lambda Function (Anonymous Function)\n",
        "\n",
        "\n",
        "  Use for short, simple functions — commonly with map(), filter(), etc."
      ],
      "metadata": {
        "id": "Y1h6LJLWuPtv"
      }
    },
    {
      "cell_type": "code",
      "source": [
        "# Definition & Calling:\n",
        "\n",
        "square = lambda x: x*x\n",
        "print(square(5))            # Output : 25"
      ],
      "metadata": {
        "colab": {
          "base_uri": "https://localhost:8080/"
        },
        "id": "kTzdPSnjuK-d",
        "outputId": "e6cbc17d-9839-4b3c-b027-7480bfdfb8a9"
      },
      "execution_count": 133,
      "outputs": [
        {
          "output_type": "stream",
          "name": "stdout",
          "text": [
            "25\n"
          ]
        }
      ]
    },
    {
      "cell_type": "markdown",
      "source": [
        "5] Nested Functions (Function inside a Function)"
      ],
      "metadata": {
        "id": "maGR-iuWuveB"
      }
    },
    {
      "cell_type": "code",
      "source": [
        "# Example:\n",
        "\n",
        "\n",
        "def outer():\n",
        "  def inner():\n",
        "    return \"Hello from inner!\"\n",
        "  return inner()\n"
      ],
      "metadata": {
        "id": "VC8fnZ8bunTG"
      },
      "execution_count": 134,
      "outputs": []
    },
    {
      "cell_type": "code",
      "source": [
        "print(outer())"
      ],
      "metadata": {
        "colab": {
          "base_uri": "https://localhost:8080/"
        },
        "id": "JD4mJLCYvZj4",
        "outputId": "75978149-5c1f-4735-a9ef-2b8968f42864"
      },
      "execution_count": 135,
      "outputs": [
        {
          "output_type": "stream",
          "name": "stdout",
          "text": [
            "Hello from inner!\n"
          ]
        }
      ]
    },
    {
      "cell_type": "markdown",
      "source": [
        "6] Function as First-Class Object\n",
        "\n",
        "You can assign a function to a variable, pass it as an argument, or return it."
      ],
      "metadata": {
        "id": "ODFfJ6Pmvhrc"
      }
    },
    {
      "cell_type": "code",
      "source": [
        "# Example:\n",
        "\n",
        "\n",
        "def shout(text):\n",
        "  return text.upper()\n",
        "\n",
        "def whisper(text):\n",
        "  return text.lower()\n",
        "\n",
        "def greet(func):\n",
        "  return func(\"Hi There\")\n",
        "\n",
        "\n"
      ],
      "metadata": {
        "id": "pzq6EpS9vd4a"
      },
      "execution_count": 136,
      "outputs": []
    },
    {
      "cell_type": "code",
      "source": [
        "print(greet(shout))       # HI THERE\n",
        "print(greet(whisper))     #hi there"
      ],
      "metadata": {
        "colab": {
          "base_uri": "https://localhost:8080/"
        },
        "id": "YC-_kkoawMfU",
        "outputId": "dddf6946-18fd-48b7-8ff4-f68f9b4c55d1"
      },
      "execution_count": 137,
      "outputs": [
        {
          "output_type": "stream",
          "name": "stdout",
          "text": [
            "HI THERE\n",
            "hi there\n"
          ]
        }
      ]
    },
    {
      "cell_type": "markdown",
      "source": [
        "7] Recursion (Function Calling Itself)"
      ],
      "metadata": {
        "id": "dFeYJKQgwgqe"
      }
    },
    {
      "cell_type": "code",
      "source": [
        "# Example:\n",
        "\n",
        "def factorial(n):\n",
        "  if n == 1:\n",
        "    return 1\n",
        "  return n * factorial(n - 1)\n",
        "\n"
      ],
      "metadata": {
        "id": "yM5j7h9KwcoA"
      },
      "execution_count": 138,
      "outputs": []
    },
    {
      "cell_type": "code",
      "source": [
        "print(factorial(5))       # Output : 120"
      ],
      "metadata": {
        "colab": {
          "base_uri": "https://localhost:8080/"
        },
        "id": "f4--sVuzw6tC",
        "outputId": "58241890-e673-432a-c489-5238d4c76f84"
      },
      "execution_count": 139,
      "outputs": [
        {
          "output_type": "stream",
          "name": "stdout",
          "text": [
            "120\n"
          ]
        }
      ]
    },
    {
      "cell_type": "markdown",
      "source": [
        "8] Calling Function from Another Module\n",
        "\n"
      ],
      "metadata": {
        "id": "6MqAnWQ1xWFb"
      }
    },
    {
      "cell_type": "code",
      "source": [
        "# Example:\n",
        "# Instead of importing, define it directly here\n",
        "\n",
        "\n",
        "def say_hello():\n",
        "  return \"Hello!\"\n",
        "\n",
        "print(say_hello())\n",
        "\n",
        "\n"
      ],
      "metadata": {
        "colab": {
          "base_uri": "https://localhost:8080/"
        },
        "id": "hitGnfxHxD4x",
        "outputId": "4f97e80d-f1f8-4f5a-8044-1fafe4507826"
      },
      "execution_count": 140,
      "outputs": [
        {
          "output_type": "stream",
          "name": "stdout",
          "text": [
            "Hello!\n"
          ]
        }
      ]
    },
    {
      "cell_type": "markdown",
      "source": [
        "Q4. What is the purpose of the `return` statement in a Python function ?\n",
        "\n",
        "    - The return statement in a Python function serves the following main purposes:\n",
        "\n",
        "    1]Sends a value back to the caller\n",
        "    When a function is called, it can compute and return a value using return."
      ],
      "metadata": {
        "id": "4Px4c-Hi0dlG"
      }
    },
    {
      "cell_type": "code",
      "source": [
        "# Example:\n",
        "\n",
        "\n",
        "def add(a, b):\n",
        "  return a + b\n",
        "\n"
      ],
      "metadata": {
        "id": "_6uDCrYD0Liz"
      },
      "execution_count": 141,
      "outputs": []
    },
    {
      "cell_type": "code",
      "source": [
        "result = add(5, 3)\n",
        "print(result)           # Output : 8"
      ],
      "metadata": {
        "colab": {
          "base_uri": "https://localhost:8080/"
        },
        "id": "UaW6E2Sr1Bcu",
        "outputId": "09f86e99-3185-4c8a-965f-7739c4260a0b"
      },
      "execution_count": 142,
      "outputs": [
        {
          "output_type": "stream",
          "name": "stdout",
          "text": [
            "8\n"
          ]
        }
      ]
    },
    {
      "cell_type": "markdown",
      "source": [
        "2] Ends the function execution\n",
        "\n",
        "As soon as a return statement is executed, the function exits immediately, even if more code follows."
      ],
      "metadata": {
        "id": "hhU4j3sF1Y6F"
      }
    },
    {
      "cell_type": "code",
      "source": [
        "def example():\n",
        "  return \"Done\"\n",
        "\n",
        "print(\"This will not run\")          # This line is never executed"
      ],
      "metadata": {
        "colab": {
          "base_uri": "https://localhost:8080/"
        },
        "id": "tlYH-FIY1UyT",
        "outputId": "4b4b183b-527c-48a4-80ef-e2a57bbf9eb3"
      },
      "execution_count": 143,
      "outputs": [
        {
          "output_type": "stream",
          "name": "stdout",
          "text": [
            "This will not run\n"
          ]
        }
      ]
    },
    {
      "cell_type": "markdown",
      "source": [
        "3] Returns multiple values (as a tuple)\n",
        "\n",
        "Python allows returning multiple values using a single return."
      ],
      "metadata": {
        "id": "luELHeyx186W"
      }
    },
    {
      "cell_type": "code",
      "source": [
        "def operations(a, b):\n",
        "  return a + b\n",
        "  return a - b\n"
      ],
      "metadata": {
        "id": "RnbUdNI813_F"
      },
      "execution_count": 144,
      "outputs": []
    },
    {
      "cell_type": "code",
      "source": [
        "sum_result"
      ],
      "metadata": {
        "colab": {
          "base_uri": "https://localhost:8080/"
        },
        "id": "-iXUmPe52lp5",
        "outputId": "5aab79ed-8509-4b50-a26a-e80081d34bcf"
      },
      "execution_count": 145,
      "outputs": [
        {
          "output_type": "execute_result",
          "data": {
            "text/plain": [
              "15"
            ]
          },
          "metadata": {},
          "execution_count": 145
        }
      ]
    },
    {
      "cell_type": "code",
      "source": [
        "diff_result"
      ],
      "metadata": {
        "colab": {
          "base_uri": "https://localhost:8080/"
        },
        "id": "k8dhjrpf3BBB",
        "outputId": "bfbb2ace-808f-4f82-a4bf-85095fd85e47"
      },
      "execution_count": 146,
      "outputs": [
        {
          "output_type": "execute_result",
          "data": {
            "text/plain": [
              "5"
            ]
          },
          "metadata": {},
          "execution_count": 146
        }
      ]
    },
    {
      "cell_type": "markdown",
      "source": [
        "4] Returns None by default\n",
        "\n",
        "If no return is specified, the function returns None."
      ],
      "metadata": {
        "id": "A4FnOnun3Kq9"
      }
    },
    {
      "cell_type": "code",
      "source": [
        "# Example:\n",
        "\n",
        "def greet():\n",
        "  print(\"Hello\")"
      ],
      "metadata": {
        "id": "VQ_2HsqJ3F74"
      },
      "execution_count": 147,
      "outputs": []
    },
    {
      "cell_type": "code",
      "source": [
        "result = greet()\n",
        "print(result)         # Output : None"
      ],
      "metadata": {
        "colab": {
          "base_uri": "https://localhost:8080/"
        },
        "id": "nTnCRCWs3hNT",
        "outputId": "a8533e2a-2756-4028-fc30-8e9fe8988c2f"
      },
      "execution_count": 148,
      "outputs": [
        {
          "output_type": "stream",
          "name": "stdout",
          "text": [
            "Hello\n",
            "None\n"
          ]
        }
      ]
    },
    {
      "cell_type": "markdown",
      "source": [
        "Q5. What are iterators in Python and how do they differ from iterables ?\n",
        "\n",
        "    - In Python, iterators and iterables are two closely related but distinct concepts that are central to looping and data traversal.\n",
        "\n",
        "    Iterables-\n",
        "\n",
        "    An iterable is any Python object capable of returning its members one at a time.\n",
        "    Examples: list, tuple, string, set, dictionary, etc.\n",
        "    1] An iterable implements the __iter__() method.\n",
        "    2] You can use it in a for loop.\n",
        "    3] It doesn't keep track of where it is in the iteration."
      ],
      "metadata": {
        "id": "rANZUThw3yIN"
      }
    },
    {
      "cell_type": "code",
      "source": [
        "# Example:\n",
        "\n",
        "my_list = [1, 2, 3]\n",
        "for item in my_list:        # my_list is iterable\n",
        "  print(item)\n"
      ],
      "metadata": {
        "colab": {
          "base_uri": "https://localhost:8080/"
        },
        "id": "RRaczwA_3r44",
        "outputId": "58875544-85af-4fc0-ef96-f5401210573e"
      },
      "execution_count": 149,
      "outputs": [
        {
          "output_type": "stream",
          "name": "stdout",
          "text": [
            "1\n",
            "2\n",
            "3\n"
          ]
        }
      ]
    },
    {
      "cell_type": "markdown",
      "source": [
        "Iterators -\n",
        "\n",
        "An iterator is an object that represents a stream of data; it returns data one element at a time when you call next() on it.\n",
        "\n",
        "It implements both:\n",
        "\n",
        "__iter__() (returns the iterator object itself),\n",
        "\n",
        "__next__() (returns the next item or raises StopIteration).\n",
        "\n",
        "It remembers its position during iteration.\n",
        "It’s consumed as you iterate."
      ],
      "metadata": {
        "id": "pUhHDDLA55Nk"
      }
    },
    {
      "cell_type": "code",
      "source": [
        "# Example:\n",
        "\n",
        "my_iter = iter([1, 2, 3])  # Convert iterable to iterator\n",
        "print(next(my_iter))  # 1\n",
        "print(next(my_iter))  # 2\n",
        "print(next(my_iter))  # 3\n",
        "# print(next(my_iter))  # Raises StopIteration\n"
      ],
      "metadata": {
        "colab": {
          "base_uri": "https://localhost:8080/"
        },
        "id": "J1CqELK-51it",
        "outputId": "6b18f14e-d464-42c7-bd6f-33035af03663"
      },
      "execution_count": 150,
      "outputs": [
        {
          "output_type": "stream",
          "name": "stdout",
          "text": [
            "1\n",
            "2\n",
            "3\n"
          ]
        }
      ]
    },
    {
      "cell_type": "code",
      "source": [
        "# Example:\n",
        "#Example to Illustrate\n",
        "\n",
        "\n",
        "# Iterable\n",
        "my_str = \"abc\"\n",
        "print(iter(my_str))  # <str_iterator object>\n",
        "\n",
        "# Iterator\n",
        "it = iter(my_str)\n",
        "print(next(it))  # 'a'\n",
        "print(next(it))  # 'b'\n",
        "print(next(it))  # 'c'\n"
      ],
      "metadata": {
        "colab": {
          "base_uri": "https://localhost:8080/"
        },
        "id": "k-ed4ydGAUHw",
        "outputId": "4b91bd08-cf99-405c-dbab-572eafaeef8e"
      },
      "execution_count": 151,
      "outputs": [
        {
          "output_type": "stream",
          "name": "stdout",
          "text": [
            "<str_ascii_iterator object at 0x7fdc6321a500>\n",
            "a\n",
            "b\n",
            "c\n"
          ]
        }
      ]
    },
    {
      "cell_type": "markdown",
      "source": [
        "Q6.  Explain the concept of generators in Python and how they are defined ?\n",
        "    \n",
        "    - Generators are a special type of iterator in Python that allow you to iterate over data lazily—meaning they generate values on the fly and don't store everything in memory at once. This makes them memory-efficient for large datasets or infinite sequences.\n",
        "\n",
        "    Key Characteristics:\n",
        "\n",
        "    1) Lazy Evaluation: Values are computed only when needed.\n",
        "    2) One-time Use: Generators can be iterated only once.\n",
        "    3) Efficient: They don’t store all values in memory.\n",
        "\n",
        "    How Generators are Defined:\n",
        "    There are two main ways to create generators in Python:\n",
        "\n",
        "    1] Using a Generator Function (with yield)\n",
        "\n",
        "    yield pauses the function and saves its state.\n",
        "\n",
        "    When next() is called again, it resumes from where it left off.\n",
        "    "
      ],
      "metadata": {
        "id": "jrsOzk6UAjpE"
      }
    },
    {
      "cell_type": "code",
      "source": [
        "def count_up_to(n):\n",
        "  count = 1\n",
        "  while count <= n:\n",
        "    yield count           # Suspend the function returns value\n",
        "    count += 1"
      ],
      "metadata": {
        "id": "QthsFuNjAf_H"
      },
      "execution_count": 152,
      "outputs": []
    },
    {
      "cell_type": "code",
      "source": [
        "gen = count_up_to(3)\n",
        "for num in gen:\n",
        "  print(num)"
      ],
      "metadata": {
        "colab": {
          "base_uri": "https://localhost:8080/"
        },
        "id": "dCWLMJRTBt5S",
        "outputId": "3204caa0-f9b1-4e44-9803-7405f71994d2"
      },
      "execution_count": 153,
      "outputs": [
        {
          "output_type": "stream",
          "name": "stdout",
          "text": [
            "1\n",
            "2\n",
            "3\n"
          ]
        }
      ]
    },
    {
      "cell_type": "markdown",
      "source": [
        "2] Using Generator Expressions (similar to list comprehensions)\n",
        "\n",
        "      Uses round brackets () instead of square brackets [].\n",
        "      More compact but less flexible than generator functions.\n",
        "\n",
        "      Under the Hood:\n",
        "\n",
        "      Generators implement the iterator protocol (__iter__() and __next__()).\n",
        "      They raise StopIteration when exhausted.\n",
        "\n",
        "      When to Use Generators:\n",
        "      Working with large data (like reading big files line by line).\n",
        "      When performance and memory are concerns.\n",
        "      For streaming data or infinite sequences (e.g., Fibonacci, prime numbers, etc.).\n",
        "      "
      ],
      "metadata": {
        "id": "dWW6Y9HtCFsa"
      }
    },
    {
      "cell_type": "code",
      "source": [
        "gen = (x**2 for x in range (5))\n",
        "for num in gen:\n",
        "  print(num)"
      ],
      "metadata": {
        "colab": {
          "base_uri": "https://localhost:8080/"
        },
        "id": "GhiYc-45B5U7",
        "outputId": "31078875-efd8-4f13-8e88-001b9207184d"
      },
      "execution_count": 154,
      "outputs": [
        {
          "output_type": "stream",
          "name": "stdout",
          "text": [
            "0\n",
            "1\n",
            "4\n",
            "9\n",
            "16\n"
          ]
        }
      ]
    },
    {
      "cell_type": "markdown",
      "source": [
        "Q7.  What are the advantages of using generators over regular functions ?\n",
        "\n",
        "    - Generators offer several advantages over regular functions, especially when working with large data or when performance and memory efficiency are important. Here are the main benefits:\n",
        "\n",
        "    1] Memory Efficiency\n",
        "\n",
        "    Generators don’t store the entire sequence in memory. Instead, they yield items one at a time.\n",
        "    Useful for working with large datasets or infinite sequences.\n",
        "\n",
        "\n",
        "    This avoids creating a list with n elements."
      ],
      "metadata": {
        "id": "Sj27lvWJCy4U"
      }
    },
    {
      "cell_type": "code",
      "source": [
        "# Example:\n",
        "\n",
        "\n",
        "def count_up_to(n):\n",
        "  for i in range(n):\n",
        "    yield i"
      ],
      "metadata": {
        "id": "fCH-tN-kCX4q"
      },
      "execution_count": 155,
      "outputs": []
    },
    {
      "cell_type": "markdown",
      "source": [
        "2] Lazy Evaluation\n",
        "\n",
        "Values are generated on the fly, only when needed.\n",
        "Saves time and memory during iteration."
      ],
      "metadata": {
        "id": "KsSw4CSyDiLs"
      }
    },
    {
      "cell_type": "code",
      "source": [
        "# Example:\n",
        "\n",
        "for num in count_up_to(1_000_000):\n",
        "  if num == 10:\n",
        "    break"
      ],
      "metadata": {
        "id": "PeVqXkGADVib"
      },
      "execution_count": 156,
      "outputs": []
    },
    {
      "cell_type": "markdown",
      "source": [
        "Stops early without computing the rest."
      ],
      "metadata": {
        "id": "a_cag5HRD_C4"
      }
    },
    {
      "cell_type": "markdown",
      "source": [
        "3] Performance Boost\n",
        "\n",
        "Faster startup time compared to regular functions that return lists.\n",
        "Reduces overhead of memory allocation.\n",
        "\n",
        "4] State Persistence\n",
        "Generators automatically remember their state between yield s.\n",
        "Useful for implementing pipelines, coroutines, or stateful sequences.\n",
        "\n",
        "5] Simplifies Code for Iterators\n",
        "Easier than writing an iterator class with __iter__() and __next__() methods.\n",
        "Cleaner and more readable code for sequential processes.\n",
        "\n",
        "6]  Composable\n",
        "You can chain generators to build data pipelines (like Unix pipes)."
      ],
      "metadata": {
        "id": "jfda58KfEDOX"
      }
    },
    {
      "cell_type": "code",
      "source": [
        "# Example:\n",
        "\n",
        "def even_numbers(seq):\n",
        "  for num in seq:\n",
        "    if num % 2 == 0:\n",
        "      yield num"
      ],
      "metadata": {
        "id": "EKa1nRCCD86_"
      },
      "execution_count": 157,
      "outputs": []
    },
    {
      "cell_type": "markdown",
      "source": [
        "Q8. What is a lambda function in Python and when is it typically used ?\n",
        "\n",
        "    - A lambda function in Python is an anonymous, inline function defined using the lambda keyword. It is used to create small, one-line functions without formally defining them using def.\n",
        "\n",
        "    "
      ],
      "metadata": {
        "id": "NfqG2E73FFZm"
      }
    },
    {
      "cell_type": "code",
      "source": [
        "# Syntax:\n",
        "\n",
        "lambda arguments: expression\n"
      ],
      "metadata": {
        "colab": {
          "base_uri": "https://localhost:8080/"
        },
        "id": "2K30yAr6E-BQ",
        "outputId": "15a487bb-1440-48d8-ee4a-5f0af3e47420"
      },
      "execution_count": 158,
      "outputs": [
        {
          "output_type": "execute_result",
          "data": {
            "text/plain": [
              "<function __main__.<lambda>(arguments)>"
            ]
          },
          "metadata": {},
          "execution_count": 158
        }
      ]
    },
    {
      "cell_type": "code",
      "source": [
        "# Example:\n",
        "\n",
        "add = lambda x, y: x + y\n",
        "print(add(2, 3))            # Output : 5"
      ],
      "metadata": {
        "colab": {
          "base_uri": "https://localhost:8080/"
        },
        "id": "WF_OM6NBFU-5",
        "outputId": "92745492-c586-45e3-869a-fd6c8e75a5d9"
      },
      "execution_count": 159,
      "outputs": [
        {
          "output_type": "stream",
          "name": "stdout",
          "text": [
            "5\n"
          ]
        }
      ]
    },
    {
      "cell_type": "markdown",
      "source": [
        "Key Characteristics:\n",
        "\n",
        "No def or function name required.\n",
        "Can take any number of arguments.\n",
        "Must contain a single expression (no statements).\n",
        "Returns the value of that expression.\n",
        "\n",
        "\n",
        "Common Use Cases:\n",
        "1] With map():"
      ],
      "metadata": {
        "id": "diMPfeSJFuC2"
      }
    },
    {
      "cell_type": "code",
      "source": [
        "# Example:\n",
        "\n",
        "nums = [1, 2, 3, 4]\n",
        "squared = list(map(lambda x: x**2, nums))\n",
        "print(squared)                                      #[1, 4, 9, 16]"
      ],
      "metadata": {
        "colab": {
          "base_uri": "https://localhost:8080/"
        },
        "id": "dy9OUCG5FqT2",
        "outputId": "35da738f-3c6c-4f70-b9d2-745fda08a842"
      },
      "execution_count": 160,
      "outputs": [
        {
          "output_type": "stream",
          "name": "stdout",
          "text": [
            "[1, 4, 9, 16]\n"
          ]
        }
      ]
    },
    {
      "cell_type": "markdown",
      "source": [
        "2] With filter():"
      ],
      "metadata": {
        "id": "EGH6WndXGinO"
      }
    },
    {
      "cell_type": "code",
      "source": [
        "# Example:\n",
        "\n",
        "nums = [1, 2, 3, 4]\n",
        "evens = list(filter(lambda x: x % 2 == 0, nums))\n",
        "print(evens)                                          #[2, 4]"
      ],
      "metadata": {
        "colab": {
          "base_uri": "https://localhost:8080/"
        },
        "id": "vNk3-kqYGerZ",
        "outputId": "81fd21ab-4422-4dc0-b029-265f7ad472e6"
      },
      "execution_count": 161,
      "outputs": [
        {
          "output_type": "stream",
          "name": "stdout",
          "text": [
            "[2, 4]\n"
          ]
        }
      ]
    },
    {
      "cell_type": "markdown",
      "source": [
        "3] With sorted() and custom key:"
      ],
      "metadata": {
        "id": "AxcnI5CjHJgu"
      }
    },
    {
      "cell_type": "code",
      "source": [
        "# Example:\n",
        "\n",
        "names = ['John', 'Alexandra', 'Bob']\n",
        "sorted_names = sorted(names, key = lambda name: len(name))\n",
        "print(sorted_names)                            # ['Bob', 'John', 'Alexandra']"
      ],
      "metadata": {
        "colab": {
          "base_uri": "https://localhost:8080/"
        },
        "id": "HXwjkQIFHDU_",
        "outputId": "f5315446-c228-4541-d93c-ad1cd6eca1f8"
      },
      "execution_count": 162,
      "outputs": [
        {
          "output_type": "stream",
          "name": "stdout",
          "text": [
            "['Bob', 'John', 'Alexandra']\n"
          ]
        }
      ]
    },
    {
      "cell_type": "markdown",
      "source": [
        "4] Inline callbacks or simple function logic:\n",
        "\n",
        "Useful where defining a full function is unnecessary or overkill.\n",
        "\n",
        "When not to use lambda:\n",
        "If the logic is complex or requires multiple statements.\n",
        "When readability and debugging are a priority — in those cases, use def."
      ],
      "metadata": {
        "id": "Y2guZJrBIOdk"
      }
    },
    {
      "cell_type": "markdown",
      "source": [
        "Q9.  Explain the purpose and usage of the `map()` function in Python ?\n",
        "\n",
        "      - The map() function in Python is a built-in function used to apply a given function to every item in an iterable (like a list, tuple, etc.) and return a map object (an iterator) of the results.\n",
        "\n",
        "      Purpose of map()\n",
        "      To transform data by applying a function to each element of a collection without using an explicit for loop.\n",
        "\n",
        "      # Syntax:\n",
        "      map(function, iterable)\n",
        "\n",
        "      function: A function to apply to each item in the iterable.\n",
        "      iterable: A sequence (e.g., list, tuple) whose items will be processed."
      ],
      "metadata": {
        "id": "FwJR7LYJIg3K"
      }
    },
    {
      "cell_type": "markdown",
      "source": [
        " Using lambda with map()\n",
        "\n",
        " numbers = [1, 2, 3, 4, 5 ]\n",
        " squared = map(lambda x: x ** 2, numbers)\n",
        " print(list(squared)\n",
        " # Output : [1, 4, 9, 16, 25]"
      ],
      "metadata": {
        "id": "zl4vH9XzKmHJ"
      }
    },
    {
      "cell_type": "code",
      "source": [
        "# Basic Example:\n",
        "\n",
        "def square(x):\n",
        "    return x * x\n",
        "\n",
        "numbers = [1, 2, 3, 4, 5]\n",
        "squared_numbers = map(square, numbers)\n",
        "\n",
        "print(list(squared_numbers))\n",
        "# Output: [1, 4, 9, 16, 25]\n"
      ],
      "metadata": {
        "colab": {
          "base_uri": "https://localhost:8080/"
        },
        "id": "zXPY8QzyJSGF",
        "outputId": "4e359f17-1f86-41e1-9611-b3b9e2d70fdb"
      },
      "execution_count": 163,
      "outputs": [
        {
          "output_type": "stream",
          "name": "stdout",
          "text": [
            "[1, 4, 9, 16, 25]\n"
          ]
        }
      ]
    },
    {
      "cell_type": "markdown",
      "source": [
        "Using map() with Multiple Iterables\n",
        "\n"
      ],
      "metadata": {
        "id": "NaSXtr72J8UK"
      }
    },
    {
      "cell_type": "code",
      "source": [
        "a = [1, 2, 3]\n",
        "b = [4, 5, 6]"
      ],
      "metadata": {
        "id": "sWJu45JXJ4jl"
      },
      "execution_count": 164,
      "outputs": []
    },
    {
      "cell_type": "code",
      "source": [
        "sum_ab = map(lambda x, y: x + y, a, b)\n",
        "print(list(sum_ab))\n",
        "\n",
        "# Output : [5, 7, 9]"
      ],
      "metadata": {
        "colab": {
          "base_uri": "https://localhost:8080/"
        },
        "id": "lxgyjF7hK_aD",
        "outputId": "b459f831-3877-4590-a88b-c5470a2e9861"
      },
      "execution_count": 165,
      "outputs": [
        {
          "output_type": "stream",
          "name": "stdout",
          "text": [
            "[5, 7, 9]\n"
          ]
        }
      ]
    },
    {
      "cell_type": "markdown",
      "source": [
        "Key Points:\n",
        "\n",
        "Returns a map object, which is an iterator (convertible to list, tuple, etc.).\n",
        "More efficient than using loops for large data transformations.\n",
        "Works well with lambda, built-in functions, or custom functions."
      ],
      "metadata": {
        "id": "6yVGLep8LcWf"
      }
    },
    {
      "cell_type": "markdown",
      "source": [
        "Q10. What is the difference between `map()`, `reduce()`, and `filter()` functions in Python ?\n",
        "\n",
        "  - In Python, the built-in functions map(), reduce(), and filter() are commonly used for functional programming. Here's a breakdown of their differences and use cases:\n",
        "\n",
        "  1] map()\n",
        "  Purpose: Applies a function to each item in an iterable and returns a map object (an iterator).\n",
        "\n",
        "Syntax:\n",
        "map(function, iterable)\n"
      ],
      "metadata": {
        "id": "m_A0gtjWMQxn"
      }
    },
    {
      "cell_type": "code",
      "source": [
        "# Example:\n",
        "\n",
        "nums = [1, 2, 3, 4]\n",
        "squared = map(lambda x: x ** 2, nums)\n",
        "print(list(squared))        # Output : [1, 4, 9, 16]"
      ],
      "metadata": {
        "colab": {
          "base_uri": "https://localhost:8080/"
        },
        "id": "b5Pjo2_lLZNe",
        "outputId": "8028e15d-c57d-41b0-82be-4a9f05a011db"
      },
      "execution_count": 166,
      "outputs": [
        {
          "output_type": "stream",
          "name": "stdout",
          "text": [
            "[1, 4, 9, 16]\n"
          ]
        }
      ]
    },
    {
      "cell_type": "markdown",
      "source": [
        "Use case: Transform elements one-by-one."
      ],
      "metadata": {
        "id": "R_RvcjA1N3MG"
      }
    },
    {
      "cell_type": "code",
      "source": [],
      "metadata": {
        "id": "V8A2LhsmN0t0"
      },
      "execution_count": 166,
      "outputs": []
    },
    {
      "cell_type": "markdown",
      "source": [
        "2] filter()\n",
        "\n",
        "Purpose: Filters items in an iterable based on a condition provided by a function (which returns True or False).\n",
        "\n",
        "Syntax: filter(function, iterable)\n"
      ],
      "metadata": {
        "id": "8lh1BcRJN6VE"
      }
    },
    {
      "cell_type": "code",
      "source": [
        "# Example:\n",
        "\n",
        "nums = [1, 2, 3, 4, 5]\n",
        "even = filter(lambda x: x % 2 == 0, nums)\n",
        "print(list(even))       # Output : [2, 4]"
      ],
      "metadata": {
        "colab": {
          "base_uri": "https://localhost:8080/"
        },
        "id": "YfUBmfPTOB-o",
        "outputId": "8ce19eb4-e36a-427c-9d45-9c11af4f8eaf"
      },
      "execution_count": 167,
      "outputs": [
        {
          "output_type": "stream",
          "name": "stdout",
          "text": [
            "[2, 4]\n"
          ]
        }
      ]
    },
    {
      "cell_type": "markdown",
      "source": [
        "Use case: Select elements based on a condition."
      ],
      "metadata": {
        "id": "qArYDg8XOgFm"
      }
    },
    {
      "cell_type": "markdown",
      "source": [
        "3] reduce() (requires functools module)\n",
        "Purpose: Reduces an iterable to a single value by applying a function cumulatively.\n",
        "\n",
        "Syntax: from functools import reduce\n",
        "reduce(function, iterable)\n"
      ],
      "metadata": {
        "id": "Iul_KjxEOj2T"
      }
    },
    {
      "cell_type": "code",
      "source": [
        "# Example:\n",
        "\n",
        "from functools import reduce\n",
        "nums = [1, 2, 3, 4]\n",
        "product = reduce(lambda x, y: x * y, nums)\n",
        "print(product)          # Output : 24"
      ],
      "metadata": {
        "colab": {
          "base_uri": "https://localhost:8080/"
        },
        "id": "vMHeWQPkOdgS",
        "outputId": "f95106c6-4419-4975-dd6b-cc605011beb5"
      },
      "execution_count": 168,
      "outputs": [
        {
          "output_type": "stream",
          "name": "stdout",
          "text": [
            "24\n"
          ]
        }
      ]
    },
    {
      "cell_type": "markdown",
      "source": [
        "Use case: Combine all elements to a single result (like sum, product, etc.)."
      ],
      "metadata": {
        "id": "BZPsQ2CiPLTG"
      }
    },
    {
      "cell_type": "markdown",
      "source": [
        "Q11. Using pen & Paper write the internal mechanism for sum operation using  reduce function on this given\n",
        "list:[47,11,42,13];\n",
        "\n",
        "    - To understand the internal mechanism of the reduce() function with a sum operation on the list [47, 11, 42, 13], let's break it down step-by-step using pen & paper style:\n",
        "\n",
        "    Concept:\n",
        "\n",
        "    The reduce() function from Python’s functools module applies a rolling computation to sequential pairs of elements in a list.\n",
        "\n",
        "    Goal:\n",
        "\n",
        "    Compute the sum of the list:[47, 11, 42, 13]\n",
        "    using:"
      ],
      "metadata": {
        "id": "aqic5b3OPQL7"
      }
    },
    {
      "cell_type": "code",
      "source": [
        "# Example:\n",
        "\n",
        "from functools import reduce\n",
        "reduce(lambda a, b: a + b, [47, 11, 42, 13])\n"
      ],
      "metadata": {
        "colab": {
          "base_uri": "https://localhost:8080/"
        },
        "id": "IyLGUDwKPIRr",
        "outputId": "9bbadc37-d9d8-4214-f032-c06722c65964"
      },
      "execution_count": 169,
      "outputs": [
        {
          "output_type": "execute_result",
          "data": {
            "text/plain": [
              "113"
            ]
          },
          "metadata": {},
          "execution_count": 169
        }
      ]
    },
    {
      "cell_type": "markdown",
      "source": [
        "Step-by-step Reduction:\n",
        "\n",
        "Initial list:\n",
        "[47, 11, 42, 13]\n",
        "\n",
        "Step 1:\n",
        "Apply function on first two elements:\n",
        "a = 47, b = 11\n",
        "→ 47 + 11 = 58\n",
        "\n",
        "Intermediate result = 58\n",
        "\n",
        "Step 2:\n",
        "Now take the result and next item:\n",
        "a = 58, b = 42\n",
        "→ 58 + 42 = 100\n",
        "\n",
        "Intermediate result = 100\n",
        "\n",
        "Step 3:\n",
        "Next:\n",
        "a = 100, b = 13\n",
        "→ 100 + 13 = 113\n",
        "\n",
        "Final result = 113\n",
        "\n"
      ],
      "metadata": {
        "id": "ra5Kg5knQxkL"
      }
    },
    {
      "cell_type": "markdown",
      "source": [
        "[link text](https://drive.google.com/file/d/1Uc2_DVLXSr9UKtgSb3yj4TAmJH072si5/view?usp=drive_link)"
      ],
      "metadata": {
        "id": "-h61EH-bmNXK"
      }
    },
    {
      "cell_type": "code",
      "source": [],
      "metadata": {
        "id": "mfCr-NEcZcTw"
      },
      "execution_count": null,
      "outputs": []
    }
  ]
}